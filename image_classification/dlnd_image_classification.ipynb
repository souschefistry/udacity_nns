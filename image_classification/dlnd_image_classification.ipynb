{
 "cells": [
  {
   "cell_type": "markdown",
   "metadata": {
    "collapsed": true
   },
   "source": [
    "# Image Classification\n",
    "In this project, you'll classify images from the [CIFAR-10 dataset](https://www.cs.toronto.edu/~kriz/cifar.html).  The dataset consists of airplanes, dogs, cats, and other objects. You'll preprocess the images, then train a convolutional neural network on all the samples. The images need to be normalized and the labels need to be one-hot encoded.  You'll get to apply what you learned and build a convolutional, max pooling, dropout, and fully connected layers.  At the end, you'll get to see your neural network's predictions on the sample images.\n",
    "## Get the Data\n",
    "Run the following cell to download the [CIFAR-10 dataset for python](https://www.cs.toronto.edu/~kriz/cifar-10-python.tar.gz)."
   ]
  },
  {
   "cell_type": "code",
   "execution_count": 1,
   "metadata": {},
   "outputs": [
    {
     "data": {
      "text/plain": [
       "\"\\nDON'T MODIFY ANYTHING IN THIS CELL THAT IS BELOW THIS LINE\\n\""
      ]
     },
     "execution_count": 1,
     "metadata": {},
     "output_type": "execute_result"
    },
    {
     "name": "stderr",
     "output_type": "stream",
     "text": [
      "CIFAR-10 Dataset: 100%|████████████████████████████████████████████████████████████▉| 170M/170M [00:13<00:00, 15.0MB/s]"
     ]
    },
    {
     "data": {
      "text/plain": [
       "('cifar-10-python.tar.gz', <http.client.HTTPMessage at 0x19c6b515780>)"
      ]
     },
     "execution_count": 1,
     "metadata": {},
     "output_type": "execute_result"
    },
    {
     "name": "stderr",
     "output_type": "stream",
     "text": [
      "CIFAR-10 Dataset: 171MB [00:13, 12.6MB/s]                                                                              \n"
     ]
    },
    {
     "name": "stdout",
     "output_type": "stream",
     "text": [
      "All files found!\n"
     ]
    }
   ],
   "source": [
    "\"\"\"\n",
    "DON'T MODIFY ANYTHING IN THIS CELL THAT IS BELOW THIS LINE\n",
    "\"\"\"\n",
    "from urllib.request import urlretrieve\n",
    "from os.path import isfile, isdir\n",
    "from tqdm import tqdm\n",
    "import problem_unittests as tests\n",
    "import tarfile\n",
    "\n",
    "cifar10_dataset_folder_path = 'cifar-10-batches-py'\n",
    "\n",
    "# Use Floyd's cifar-10 dataset if present\n",
    "floyd_cifar10_location = '/input/cifar-10/python.tar.gz'\n",
    "if isfile(floyd_cifar10_location):\n",
    "    tar_gz_path = floyd_cifar10_location\n",
    "else:\n",
    "    tar_gz_path = 'cifar-10-python.tar.gz'\n",
    "\n",
    "class DLProgress(tqdm):\n",
    "    last_block = 0\n",
    "\n",
    "    def hook(self, block_num=1, block_size=1, total_size=None):\n",
    "        self.total = total_size\n",
    "        self.update((block_num - self.last_block) * block_size)\n",
    "        self.last_block = block_num\n",
    "\n",
    "if not isfile(tar_gz_path):\n",
    "    with DLProgress(unit='B', unit_scale=True, miniters=1, desc='CIFAR-10 Dataset') as pbar:\n",
    "        urlretrieve(\n",
    "            'https://www.cs.toronto.edu/~kriz/cifar-10-python.tar.gz',\n",
    "            tar_gz_path,\n",
    "            pbar.hook)\n",
    "\n",
    "if not isdir(cifar10_dataset_folder_path):\n",
    "    with tarfile.open(tar_gz_path) as tar:\n",
    "        tar.extractall()\n",
    "        tar.close()\n",
    "\n",
    "\n",
    "tests.test_folder_path(cifar10_dataset_folder_path)"
   ]
  },
  {
   "cell_type": "markdown",
   "metadata": {},
   "source": [
    "## Explore the Data\n",
    "The dataset is broken into batches to prevent your machine from running out of memory.  The CIFAR-10 dataset consists of 5 batches, named `data_batch_1`, `data_batch_2`, etc.. Each batch contains the labels and images that are one of the following:\n",
    "* airplane\n",
    "* automobile\n",
    "* bird\n",
    "* cat\n",
    "* deer\n",
    "* dog\n",
    "* frog\n",
    "* horse\n",
    "* ship\n",
    "* truck\n",
    "\n",
    "Understanding a dataset is part of making predictions on the data.  Play around with the code cell below by changing the `batch_id` and `sample_id`. The `batch_id` is the id for a batch (1-5). The `sample_id` is the id for a image and label pair in the batch.\n",
    "\n",
    "Ask yourself \"What are all possible labels?\", \"What is the range of values for the image data?\", \"Are the labels in order or random?\".  Answers to questions like these will help you preprocess the data and end up with better predictions."
   ]
  },
  {
   "cell_type": "code",
   "execution_count": 13,
   "metadata": {},
   "outputs": [
    {
     "name": "stdout",
     "output_type": "stream",
     "text": [
      "\n",
      "Stats of batch 1:\n",
      "Samples: 10000\n",
      "Label Counts: {0: 1005, 1: 974, 2: 1032, 3: 1016, 4: 999, 5: 937, 6: 1030, 7: 1001, 8: 1025, 9: 981}\n",
      "First 20 Labels: [6, 9, 9, 4, 1, 1, 2, 7, 8, 3, 4, 7, 7, 2, 9, 9, 9, 3, 2, 6]\n",
      "\n",
      "Example of Image 0:\n",
      "Image - Min Value: 0 Max Value: 255\n",
      "Image - Shape: (32, 32, 3)\n",
      "Label - Label Id: 6 Name: frog\n",
      "\n",
      "Stats of batch 1:\n",
      "Samples: 10000\n",
      "Label Counts: {0: 1005, 1: 974, 2: 1032, 3: 1016, 4: 999, 5: 937, 6: 1030, 7: 1001, 8: 1025, 9: 981}\n",
      "First 20 Labels: [6, 9, 9, 4, 1, 1, 2, 7, 8, 3, 4, 7, 7, 2, 9, 9, 9, 3, 2, 6]\n",
      "\n",
      "Example of Image 1:\n",
      "Image - Min Value: 5 Max Value: 254\n",
      "Image - Shape: (32, 32, 3)\n",
      "Label - Label Id: 9 Name: truck\n",
      "\n",
      "Stats of batch 1:\n",
      "Samples: 10000\n",
      "Label Counts: {0: 1005, 1: 974, 2: 1032, 3: 1016, 4: 999, 5: 937, 6: 1030, 7: 1001, 8: 1025, 9: 981}\n",
      "First 20 Labels: [6, 9, 9, 4, 1, 1, 2, 7, 8, 3, 4, 7, 7, 2, 9, 9, 9, 3, 2, 6]\n",
      "\n",
      "Example of Image 2:\n",
      "Image - Min Value: 20 Max Value: 255\n",
      "Image - Shape: (32, 32, 3)\n",
      "Label - Label Id: 9 Name: truck\n",
      "\n",
      "Stats of batch 1:\n",
      "Samples: 10000\n",
      "Label Counts: {0: 1005, 1: 974, 2: 1032, 3: 1016, 4: 999, 5: 937, 6: 1030, 7: 1001, 8: 1025, 9: 981}\n",
      "First 20 Labels: [6, 9, 9, 4, 1, 1, 2, 7, 8, 3, 4, 7, 7, 2, 9, 9, 9, 3, 2, 6]\n",
      "\n",
      "Example of Image 3:\n",
      "Image - Min Value: 4 Max Value: 234\n",
      "Image - Shape: (32, 32, 3)\n",
      "Label - Label Id: 4 Name: deer\n",
      "\n",
      "Stats of batch 1:\n",
      "Samples: 10000\n",
      "Label Counts: {0: 1005, 1: 974, 2: 1032, 3: 1016, 4: 999, 5: 937, 6: 1030, 7: 1001, 8: 1025, 9: 981}\n",
      "First 20 Labels: [6, 9, 9, 4, 1, 1, 2, 7, 8, 3, 4, 7, 7, 2, 9, 9, 9, 3, 2, 6]\n",
      "\n",
      "Example of Image 4:\n",
      "Image - Min Value: 0 Max Value: 254\n",
      "Image - Shape: (32, 32, 3)\n",
      "Label - Label Id: 1 Name: automobile\n",
      "\n",
      "Stats of batch 1:\n",
      "Samples: 10000\n",
      "Label Counts: {0: 1005, 1: 974, 2: 1032, 3: 1016, 4: 999, 5: 937, 6: 1030, 7: 1001, 8: 1025, 9: 981}\n",
      "First 20 Labels: [6, 9, 9, 4, 1, 1, 2, 7, 8, 3, 4, 7, 7, 2, 9, 9, 9, 3, 2, 6]\n",
      "\n",
      "Example of Image 5:\n",
      "Image - Min Value: 0 Max Value: 252\n",
      "Image - Shape: (32, 32, 3)\n",
      "Label - Label Id: 1 Name: automobile\n",
      "\n",
      "Stats of batch 1:\n",
      "Samples: 10000\n",
      "Label Counts: {0: 1005, 1: 974, 2: 1032, 3: 1016, 4: 999, 5: 937, 6: 1030, 7: 1001, 8: 1025, 9: 981}\n",
      "First 20 Labels: [6, 9, 9, 4, 1, 1, 2, 7, 8, 3, 4, 7, 7, 2, 9, 9, 9, 3, 2, 6]\n",
      "\n",
      "Example of Image 6:\n",
      "Image - Min Value: 7 Max Value: 249\n",
      "Image - Shape: (32, 32, 3)\n",
      "Label - Label Id: 2 Name: bird\n",
      "\n",
      "Stats of batch 1:\n",
      "Samples: 10000\n",
      "Label Counts: {0: 1005, 1: 974, 2: 1032, 3: 1016, 4: 999, 5: 937, 6: 1030, 7: 1001, 8: 1025, 9: 981}\n",
      "First 20 Labels: [6, 9, 9, 4, 1, 1, 2, 7, 8, 3, 4, 7, 7, 2, 9, 9, 9, 3, 2, 6]\n",
      "\n",
      "Example of Image 7:\n",
      "Image - Min Value: 9 Max Value: 248\n",
      "Image - Shape: (32, 32, 3)\n",
      "Label - Label Id: 7 Name: horse\n",
      "\n",
      "Stats of batch 1:\n",
      "Samples: 10000\n",
      "Label Counts: {0: 1005, 1: 974, 2: 1032, 3: 1016, 4: 999, 5: 937, 6: 1030, 7: 1001, 8: 1025, 9: 981}\n",
      "First 20 Labels: [6, 9, 9, 4, 1, 1, 2, 7, 8, 3, 4, 7, 7, 2, 9, 9, 9, 3, 2, 6]\n",
      "\n",
      "Example of Image 8:\n",
      "Image - Min Value: 8 Max Value: 252\n",
      "Image - Shape: (32, 32, 3)\n",
      "Label - Label Id: 8 Name: ship\n",
      "\n",
      "Stats of batch 2:\n",
      "Samples: 10000\n",
      "Label Counts: {0: 984, 1: 1007, 2: 1010, 3: 995, 4: 1010, 5: 988, 6: 1008, 7: 1026, 8: 987, 9: 985}\n",
      "First 20 Labels: [1, 6, 6, 8, 8, 3, 4, 6, 0, 6, 0, 3, 6, 6, 5, 4, 8, 3, 2, 6]\n",
      "\n",
      "Example of Image 0:\n",
      "Image - Min Value: 5 Max Value: 225\n",
      "Image - Shape: (32, 32, 3)\n",
      "Label - Label Id: 1 Name: automobile\n",
      "\n",
      "Stats of batch 2:\n",
      "Samples: 10000\n",
      "Label Counts: {0: 984, 1: 1007, 2: 1010, 3: 995, 4: 1010, 5: 988, 6: 1008, 7: 1026, 8: 987, 9: 985}\n",
      "First 20 Labels: [1, 6, 6, 8, 8, 3, 4, 6, 0, 6, 0, 3, 6, 6, 5, 4, 8, 3, 2, 6]\n",
      "\n",
      "Example of Image 1:\n",
      "Image - Min Value: 2 Max Value: 247\n",
      "Image - Shape: (32, 32, 3)\n",
      "Label - Label Id: 6 Name: frog\n",
      "\n",
      "Stats of batch 2:\n",
      "Samples: 10000\n",
      "Label Counts: {0: 984, 1: 1007, 2: 1010, 3: 995, 4: 1010, 5: 988, 6: 1008, 7: 1026, 8: 987, 9: 985}\n",
      "First 20 Labels: [1, 6, 6, 8, 8, 3, 4, 6, 0, 6, 0, 3, 6, 6, 5, 4, 8, 3, 2, 6]\n",
      "\n",
      "Example of Image 2:\n",
      "Image - Min Value: 0 Max Value: 240\n",
      "Image - Shape: (32, 32, 3)\n",
      "Label - Label Id: 6 Name: frog\n",
      "\n",
      "Stats of batch 2:\n",
      "Samples: 10000\n",
      "Label Counts: {0: 984, 1: 1007, 2: 1010, 3: 995, 4: 1010, 5: 988, 6: 1008, 7: 1026, 8: 987, 9: 985}\n",
      "First 20 Labels: [1, 6, 6, 8, 8, 3, 4, 6, 0, 6, 0, 3, 6, 6, 5, 4, 8, 3, 2, 6]\n",
      "\n",
      "Example of Image 3:\n",
      "Image - Min Value: 4 Max Value: 255\n",
      "Image - Shape: (32, 32, 3)\n",
      "Label - Label Id: 8 Name: ship\n",
      "\n",
      "Stats of batch 2:\n",
      "Samples: 10000\n",
      "Label Counts: {0: 984, 1: 1007, 2: 1010, 3: 995, 4: 1010, 5: 988, 6: 1008, 7: 1026, 8: 987, 9: 985}\n",
      "First 20 Labels: [1, 6, 6, 8, 8, 3, 4, 6, 0, 6, 0, 3, 6, 6, 5, 4, 8, 3, 2, 6]\n",
      "\n",
      "Example of Image 4:\n",
      "Image - Min Value: 0 Max Value: 255\n",
      "Image - Shape: (32, 32, 3)\n",
      "Label - Label Id: 8 Name: ship\n",
      "\n",
      "Stats of batch 2:\n",
      "Samples: 10000\n",
      "Label Counts: {0: 984, 1: 1007, 2: 1010, 3: 995, 4: 1010, 5: 988, 6: 1008, 7: 1026, 8: 987, 9: 985}\n",
      "First 20 Labels: [1, 6, 6, 8, 8, 3, 4, 6, 0, 6, 0, 3, 6, 6, 5, 4, 8, 3, 2, 6]\n",
      "\n",
      "Example of Image 5:\n",
      "Image - Min Value: 3 Max Value: 219\n",
      "Image - Shape: (32, 32, 3)\n",
      "Label - Label Id: 3 Name: cat\n",
      "\n",
      "Stats of batch 2:\n",
      "Samples: 10000\n",
      "Label Counts: {0: 984, 1: 1007, 2: 1010, 3: 995, 4: 1010, 5: 988, 6: 1008, 7: 1026, 8: 987, 9: 985}\n",
      "First 20 Labels: [1, 6, 6, 8, 8, 3, 4, 6, 0, 6, 0, 3, 6, 6, 5, 4, 8, 3, 2, 6]\n",
      "\n",
      "Example of Image 6:\n",
      "Image - Min Value: 0 Max Value: 235\n",
      "Image - Shape: (32, 32, 3)\n",
      "Label - Label Id: 4 Name: deer\n",
      "\n",
      "Stats of batch 2:\n",
      "Samples: 10000\n",
      "Label Counts: {0: 984, 1: 1007, 2: 1010, 3: 995, 4: 1010, 5: 988, 6: 1008, 7: 1026, 8: 987, 9: 985}\n",
      "First 20 Labels: [1, 6, 6, 8, 8, 3, 4, 6, 0, 6, 0, 3, 6, 6, 5, 4, 8, 3, 2, 6]\n",
      "\n",
      "Example of Image 7:\n",
      "Image - Min Value: 4 Max Value: 226\n",
      "Image - Shape: (32, 32, 3)\n",
      "Label - Label Id: 6 Name: frog\n",
      "\n",
      "Stats of batch 2:\n",
      "Samples: 10000\n",
      "Label Counts: {0: 984, 1: 1007, 2: 1010, 3: 995, 4: 1010, 5: 988, 6: 1008, 7: 1026, 8: 987, 9: 985}\n",
      "First 20 Labels: [1, 6, 6, 8, 8, 3, 4, 6, 0, 6, 0, 3, 6, 6, 5, 4, 8, 3, 2, 6]\n",
      "\n",
      "Example of Image 8:\n",
      "Image - Min Value: 31 Max Value: 255\n",
      "Image - Shape: (32, 32, 3)\n",
      "Label - Label Id: 0 Name: airplane\n",
      "\n",
      "Stats of batch 3:\n",
      "Samples: 10000\n",
      "Label Counts: {0: 994, 1: 1042, 2: 965, 3: 997, 4: 990, 5: 1029, 6: 978, 7: 1015, 8: 961, 9: 1029}\n",
      "First 20 Labels: [8, 5, 0, 6, 9, 2, 8, 3, 6, 2, 7, 4, 6, 9, 0, 0, 7, 3, 7, 2]\n",
      "\n",
      "Example of Image 0:\n",
      "Image - Min Value: 0 Max Value: 254\n",
      "Image - Shape: (32, 32, 3)\n",
      "Label - Label Id: 8 Name: ship\n",
      "\n",
      "Stats of batch 3:\n",
      "Samples: 10000\n",
      "Label Counts: {0: 994, 1: 1042, 2: 965, 3: 997, 4: 990, 5: 1029, 6: 978, 7: 1015, 8: 961, 9: 1029}\n",
      "First 20 Labels: [8, 5, 0, 6, 9, 2, 8, 3, 6, 2, 7, 4, 6, 9, 0, 0, 7, 3, 7, 2]\n",
      "\n",
      "Example of Image 1:\n",
      "Image - Min Value: 15 Max Value: 249\n",
      "Image - Shape: (32, 32, 3)\n",
      "Label - Label Id: 5 Name: dog\n",
      "\n",
      "Stats of batch 3:\n",
      "Samples: 10000\n",
      "Label Counts: {0: 994, 1: 1042, 2: 965, 3: 997, 4: 990, 5: 1029, 6: 978, 7: 1015, 8: 961, 9: 1029}\n",
      "First 20 Labels: [8, 5, 0, 6, 9, 2, 8, 3, 6, 2, 7, 4, 6, 9, 0, 0, 7, 3, 7, 2]\n",
      "\n",
      "Example of Image 2:\n",
      "Image - Min Value: 21 Max Value: 255\n",
      "Image - Shape: (32, 32, 3)\n",
      "Label - Label Id: 0 Name: airplane\n",
      "\n",
      "Stats of batch 3:\n",
      "Samples: 10000\n",
      "Label Counts: {0: 994, 1: 1042, 2: 965, 3: 997, 4: 990, 5: 1029, 6: 978, 7: 1015, 8: 961, 9: 1029}\n",
      "First 20 Labels: [8, 5, 0, 6, 9, 2, 8, 3, 6, 2, 7, 4, 6, 9, 0, 0, 7, 3, 7, 2]\n",
      "\n",
      "Example of Image 3:\n",
      "Image - Min Value: 40 Max Value: 255\n",
      "Image - Shape: (32, 32, 3)\n",
      "Label - Label Id: 6 Name: frog\n",
      "\n",
      "Stats of batch 3:\n",
      "Samples: 10000\n",
      "Label Counts: {0: 994, 1: 1042, 2: 965, 3: 997, 4: 990, 5: 1029, 6: 978, 7: 1015, 8: 961, 9: 1029}\n",
      "First 20 Labels: [8, 5, 0, 6, 9, 2, 8, 3, 6, 2, 7, 4, 6, 9, 0, 0, 7, 3, 7, 2]\n",
      "\n",
      "Example of Image 4:\n",
      "Image - Min Value: 10 Max Value: 255\n",
      "Image - Shape: (32, 32, 3)\n",
      "Label - Label Id: 9 Name: truck\n",
      "\n",
      "Stats of batch 3:\n",
      "Samples: 10000\n",
      "Label Counts: {0: 994, 1: 1042, 2: 965, 3: 997, 4: 990, 5: 1029, 6: 978, 7: 1015, 8: 961, 9: 1029}\n",
      "First 20 Labels: [8, 5, 0, 6, 9, 2, 8, 3, 6, 2, 7, 4, 6, 9, 0, 0, 7, 3, 7, 2]\n",
      "\n",
      "Example of Image 5:\n",
      "Image - Min Value: 9 Max Value: 255\n",
      "Image - Shape: (32, 32, 3)\n",
      "Label - Label Id: 2 Name: bird\n",
      "\n",
      "Stats of batch 3:\n",
      "Samples: 10000\n",
      "Label Counts: {0: 994, 1: 1042, 2: 965, 3: 997, 4: 990, 5: 1029, 6: 978, 7: 1015, 8: 961, 9: 1029}\n",
      "First 20 Labels: [8, 5, 0, 6, 9, 2, 8, 3, 6, 2, 7, 4, 6, 9, 0, 0, 7, 3, 7, 2]\n",
      "\n",
      "Example of Image 6:\n",
      "Image - Min Value: 30 Max Value: 242\n",
      "Image - Shape: (32, 32, 3)\n",
      "Label - Label Id: 8 Name: ship\n",
      "\n",
      "Stats of batch 3:\n",
      "Samples: 10000\n",
      "Label Counts: {0: 994, 1: 1042, 2: 965, 3: 997, 4: 990, 5: 1029, 6: 978, 7: 1015, 8: 961, 9: 1029}\n",
      "First 20 Labels: [8, 5, 0, 6, 9, 2, 8, 3, 6, 2, 7, 4, 6, 9, 0, 0, 7, 3, 7, 2]\n",
      "\n",
      "Example of Image 7:\n",
      "Image - Min Value: 12 Max Value: 254\n",
      "Image - Shape: (32, 32, 3)\n",
      "Label - Label Id: 3 Name: cat\n",
      "\n",
      "Stats of batch 3:\n",
      "Samples: 10000\n",
      "Label Counts: {0: 994, 1: 1042, 2: 965, 3: 997, 4: 990, 5: 1029, 6: 978, 7: 1015, 8: 961, 9: 1029}\n",
      "First 20 Labels: [8, 5, 0, 6, 9, 2, 8, 3, 6, 2, 7, 4, 6, 9, 0, 0, 7, 3, 7, 2]\n",
      "\n",
      "Example of Image 8:\n",
      "Image - Min Value: 14 Max Value: 218\n",
      "Image - Shape: (32, 32, 3)\n",
      "Label - Label Id: 6 Name: frog\n",
      "\n",
      "Stats of batch 4:\n",
      "Samples: 10000\n",
      "Label Counts: {0: 1003, 1: 963, 2: 1041, 3: 976, 4: 1004, 5: 1021, 6: 1004, 7: 981, 8: 1024, 9: 983}\n",
      "First 20 Labels: [0, 6, 0, 2, 7, 2, 1, 2, 4, 1, 5, 6, 6, 3, 1, 3, 5, 5, 8, 1]\n",
      "\n",
      "Example of Image 0:\n",
      "Image - Min Value: 34 Max Value: 203\n",
      "Image - Shape: (32, 32, 3)\n",
      "Label - Label Id: 0 Name: airplane\n",
      "\n",
      "Stats of batch 4:\n",
      "Samples: 10000\n",
      "Label Counts: {0: 1003, 1: 963, 2: 1041, 3: 976, 4: 1004, 5: 1021, 6: 1004, 7: 981, 8: 1024, 9: 983}\n",
      "First 20 Labels: [0, 6, 0, 2, 7, 2, 1, 2, 4, 1, 5, 6, 6, 3, 1, 3, 5, 5, 8, 1]\n",
      "\n",
      "Example of Image 1:\n",
      "Image - Min Value: 0 Max Value: 246\n",
      "Image - Shape: (32, 32, 3)\n",
      "Label - Label Id: 6 Name: frog\n",
      "\n",
      "Stats of batch 4:\n",
      "Samples: 10000\n",
      "Label Counts: {0: 1003, 1: 963, 2: 1041, 3: 976, 4: 1004, 5: 1021, 6: 1004, 7: 981, 8: 1024, 9: 983}\n",
      "First 20 Labels: [0, 6, 0, 2, 7, 2, 1, 2, 4, 1, 5, 6, 6, 3, 1, 3, 5, 5, 8, 1]\n",
      "\n",
      "Example of Image 2:\n",
      "Image - Min Value: 2 Max Value: 204\n",
      "Image - Shape: (32, 32, 3)\n",
      "Label - Label Id: 0 Name: airplane\n",
      "\n",
      "Stats of batch 4:\n",
      "Samples: 10000\n",
      "Label Counts: {0: 1003, 1: 963, 2: 1041, 3: 976, 4: 1004, 5: 1021, 6: 1004, 7: 981, 8: 1024, 9: 983}\n",
      "First 20 Labels: [0, 6, 0, 2, 7, 2, 1, 2, 4, 1, 5, 6, 6, 3, 1, 3, 5, 5, 8, 1]\n",
      "\n",
      "Example of Image 3:\n",
      "Image - Min Value: 0 Max Value: 248\n",
      "Image - Shape: (32, 32, 3)\n",
      "Label - Label Id: 2 Name: bird\n",
      "\n",
      "Stats of batch 4:\n",
      "Samples: 10000\n",
      "Label Counts: {0: 1003, 1: 963, 2: 1041, 3: 976, 4: 1004, 5: 1021, 6: 1004, 7: 981, 8: 1024, 9: 983}\n",
      "First 20 Labels: [0, 6, 0, 2, 7, 2, 1, 2, 4, 1, 5, 6, 6, 3, 1, 3, 5, 5, 8, 1]\n",
      "\n",
      "Example of Image 4:\n",
      "Image - Min Value: 1 Max Value: 243\n",
      "Image - Shape: (32, 32, 3)\n",
      "Label - Label Id: 7 Name: horse\n",
      "\n",
      "Stats of batch 4:\n",
      "Samples: 10000\n",
      "Label Counts: {0: 1003, 1: 963, 2: 1041, 3: 976, 4: 1004, 5: 1021, 6: 1004, 7: 981, 8: 1024, 9: 983}\n",
      "First 20 Labels: [0, 6, 0, 2, 7, 2, 1, 2, 4, 1, 5, 6, 6, 3, 1, 3, 5, 5, 8, 1]\n",
      "\n",
      "Example of Image 5:\n",
      "Image - Min Value: 13 Max Value: 169\n",
      "Image - Shape: (32, 32, 3)\n",
      "Label - Label Id: 2 Name: bird\n",
      "\n",
      "Stats of batch 4:\n",
      "Samples: 10000\n",
      "Label Counts: {0: 1003, 1: 963, 2: 1041, 3: 976, 4: 1004, 5: 1021, 6: 1004, 7: 981, 8: 1024, 9: 983}\n",
      "First 20 Labels: [0, 6, 0, 2, 7, 2, 1, 2, 4, 1, 5, 6, 6, 3, 1, 3, 5, 5, 8, 1]\n",
      "\n",
      "Example of Image 6:\n",
      "Image - Min Value: 5 Max Value: 255\n",
      "Image - Shape: (32, 32, 3)\n",
      "Label - Label Id: 1 Name: automobile\n",
      "\n",
      "Stats of batch 4:\n",
      "Samples: 10000\n",
      "Label Counts: {0: 1003, 1: 963, 2: 1041, 3: 976, 4: 1004, 5: 1021, 6: 1004, 7: 981, 8: 1024, 9: 983}\n",
      "First 20 Labels: [0, 6, 0, 2, 7, 2, 1, 2, 4, 1, 5, 6, 6, 3, 1, 3, 5, 5, 8, 1]\n",
      "\n",
      "Example of Image 7:\n",
      "Image - Min Value: 17 Max Value: 221\n",
      "Image - Shape: (32, 32, 3)\n",
      "Label - Label Id: 2 Name: bird\n",
      "\n",
      "Stats of batch 4:\n",
      "Samples: 10000\n",
      "Label Counts: {0: 1003, 1: 963, 2: 1041, 3: 976, 4: 1004, 5: 1021, 6: 1004, 7: 981, 8: 1024, 9: 983}\n",
      "First 20 Labels: [0, 6, 0, 2, 7, 2, 1, 2, 4, 1, 5, 6, 6, 3, 1, 3, 5, 5, 8, 1]\n",
      "\n",
      "Example of Image 8:\n",
      "Image - Min Value: 15 Max Value: 235\n",
      "Image - Shape: (32, 32, 3)\n",
      "Label - Label Id: 4 Name: deer\n"
     ]
    },
    {
     "data": {
      "image/png": "[encoded data removed]",
      "text/plain": [
       "<matplotlib.figure.Figure at 0x19c6cd04240>"
      ]
     },
     "metadata": {
      "image/png": {
       "height": 250,
       "width": 253
      }
     },
     "output_type": "display_data"
    }
   ],
   "source": [
    "%matplotlib inline\n",
    "%config InlineBackend.figure_format = 'retina'\n",
    "\n",
    "import helper\n",
    "import numpy as np\n",
    "\n",
    "# Explore the dataset\n",
    "for bid in range(1,5):\n",
    "    for sid in range(9):\n",
    "        batch_id = bid\n",
    "        sample_id = sid\n",
    "        helper.display_stats(cifar10_dataset_folder_path, batch_id, sample_id)"
   ]
  },
  {
   "cell_type": "markdown",
   "metadata": {},
   "source": [
    "## Implement Preprocess Functions\n",
    "### Normalize\n",
    "In the cell below, implement the `normalize` function to take in image data, `x`, and return it as a normalized Numpy array. The values should be in the range of 0 to 1, inclusive.  The return object should be the same shape as `x`."
   ]
  },
  {
   "cell_type": "code",
   "execution_count": 46,
   "metadata": {},
   "outputs": [
    {
     "data": {
      "text/plain": [
       "\"\\nDON'T MODIFY ANYTHING IN THIS CELL THAT IS BELOW THIS LINE\\n\""
      ]
     },
     "execution_count": 46,
     "metadata": {},
     "output_type": "execute_result"
    },
    {
     "name": "stdout",
     "output_type": "stream",
     "text": [
      "Tests Passed\n"
     ]
    }
   ],
   "source": [
    "def normalize(x):\n",
    "    \"\"\"\n",
    "    Normalize a list of sample image data in the range of 0 to 1\n",
    "    : x: List of image data.  The image shape is (32, 32, 3)\n",
    "    : return: Numpy array of normalize data\n",
    "    \"\"\"\n",
    "    return x/255.0\n",
    "\n",
    "\n",
    "\"\"\"\n",
    "DON'T MODIFY ANYTHING IN THIS CELL THAT IS BELOW THIS LINE\n",
    "\"\"\"\n",
    "tests.test_normalize(normalize)"
   ]
  },
  {
   "cell_type": "markdown",
   "metadata": {},
   "source": [
    "### One-hot encode\n",
    "Just like the previous code cell, you'll be implementing a function for preprocessing.  This time, you'll implement the `one_hot_encode` function. The input, `x`, are a list of labels.  Implement the function to return the list of labels as One-Hot encoded Numpy array.  The possible values for labels are 0 to 9. The one-hot encoding function should return the same encoding for each value between each call to `one_hot_encode`.  Make sure to save the map of encodings outside the function.\n",
    "\n",
    "Hint: Don't reinvent the wheel."
   ]
  },
  {
   "cell_type": "code",
   "execution_count": 47,
   "metadata": {},
   "outputs": [
    {
     "data": {
      "text/plain": [
       "\"\\nDON'T MODIFY ANYTHING IN THIS CELL THAT IS BELOW THIS LINE\\n\""
      ]
     },
     "execution_count": 47,
     "metadata": {},
     "output_type": "execute_result"
    },
    {
     "name": "stdout",
     "output_type": "stream",
     "text": [
      "Tests Passed\n"
     ]
    }
   ],
   "source": [
    "def one_hot_encode(x):\n",
    "    \"\"\"\n",
    "    One hot encode a list of sample labels. Return a one-hot encoded vector for each label.\n",
    "    : x: List of sample Labels\n",
    "    : return: Numpy array of one-hot encoded labels\n",
    "    \"\"\"\n",
    "    y = np.zeros((len(x), 10))\n",
    "    for i in range(len(x)):\n",
    "        y[i,x[i]] = 1\n",
    "    return y\n",
    "\n",
    "\n",
    "\"\"\"\n",
    "DON'T MODIFY ANYTHING IN THIS CELL THAT IS BELOW THIS LINE\n",
    "\"\"\"\n",
    "tests.test_one_hot_encode(one_hot_encode)"
   ]
  },
  {
   "cell_type": "markdown",
   "metadata": {},
   "source": [
    "### Randomize Data\n",
    "As you saw from exploring the data above, the order of the samples are randomized.  It doesn't hurt to randomize it again, but you don't need to for this dataset."
   ]
  },
  {
   "cell_type": "markdown",
   "metadata": {},
   "source": [
    "## Preprocess all the data and save it\n",
    "Running the code cell below will preprocess all the CIFAR-10 data and save it to file. The code below also uses 10% of the training data for validation."
   ]
  },
  {
   "cell_type": "code",
   "execution_count": 48,
   "metadata": {},
   "outputs": [
    {
     "data": {
      "text/plain": [
       "\"\\nDON'T MODIFY ANYTHING IN THIS CELL\\n\""
      ]
     },
     "execution_count": 48,
     "metadata": {},
     "output_type": "execute_result"
    }
   ],
   "source": [
    "\"\"\"\n",
    "DON'T MODIFY ANYTHING IN THIS CELL\n",
    "\"\"\"\n",
    "# Preprocess Training, Validation, and Testing Data\n",
    "helper.preprocess_and_save_data(cifar10_dataset_folder_path, normalize, one_hot_encode)"
   ]
  },
  {
   "cell_type": "markdown",
   "metadata": {},
   "source": [
    "# Check Point\n",
    "This is your first checkpoint.  If you ever decide to come back to this notebook or have to restart the notebook, you can start from here.  The preprocessed data has been saved to disk."
   ]
  },
  {
   "cell_type": "code",
   "execution_count": 99,
   "metadata": {},
   "outputs": [
    {
     "data": {
      "text/plain": [
       "\"\\nDON'T MODIFY ANYTHING IN THIS CELL\\n\""
      ]
     },
     "execution_count": 99,
     "metadata": {},
     "output_type": "execute_result"
    }
   ],
   "source": [
    "\"\"\"\n",
    "DON'T MODIFY ANYTHING IN THIS CELL\n",
    "\"\"\"\n",
    "import pickle\n",
    "import problem_unittests as tests\n",
    "import helper\n",
    "\n",
    "# Load the Preprocessed Validation data\n",
    "valid_features, valid_labels = pickle.load(open('preprocess_validation.p', mode='rb'))"
   ]
  },
  {
   "cell_type": "markdown",
   "metadata": {},
   "source": [
    "## Build the network\n",
    "For the neural network, you'll build each layer into a function.  Most of the code you've seen has been outside of functions. To test your code more thoroughly, we require that you put each layer in a function.  This allows us to give you better feedback and test for simple mistakes using our unittests before you submit your project.\n",
    "\n",
    ">**Note:** If you're finding it hard to dedicate enough time for this course each week, we've provided a small shortcut to this part of the project. In the next couple of problems, you'll have the option to use classes from the [TensorFlow Layers](https://www.tensorflow.org/api_docs/python/tf/layers) or [TensorFlow Layers (contrib)](https://www.tensorflow.org/api_guides/python/contrib.layers) packages to build each layer, except the layers you build in the \"Convolutional and Max Pooling Layer\" section.  TF Layers is similar to Keras's and TFLearn's abstraction to layers, so it's easy to pickup.\n",
    "\n",
    ">However, if you would like to get the most out of this course, try to solve all the problems _without_ using anything from the TF Layers packages. You **can** still use classes from other packages that happen to have the same name as ones you find in TF Layers! For example, instead of using the TF Layers version of the `conv2d` class, [tf.layers.conv2d](https://www.tensorflow.org/api_docs/python/tf/layers/conv2d), you would want to use the TF Neural Network version of `conv2d`, [tf.nn.conv2d](https://www.tensorflow.org/api_docs/python/tf/nn/conv2d). \n",
    "\n",
    "Let's begin!\n",
    "\n",
    "### Input\n",
    "The neural network needs to read the image data, one-hot encoded labels, and dropout keep probability. Implement the following functions\n",
    "* Implement `neural_net_image_input`\n",
    " * Return a [TF Placeholder](https://www.tensorflow.org/api_docs/python/tf/placeholder)\n",
    " * Set the shape using `image_shape` with batch size set to `None`.\n",
    " * Name the TensorFlow placeholder \"x\" using the TensorFlow `name` parameter in the [TF Placeholder](https://www.tensorflow.org/api_docs/python/tf/placeholder).\n",
    "* Implement `neural_net_label_input`\n",
    " * Return a [TF Placeholder](https://www.tensorflow.org/api_docs/python/tf/placeholder)\n",
    " * Set the shape using `n_classes` with batch size set to `None`.\n",
    " * Name the TensorFlow placeholder \"y\" using the TensorFlow `name` parameter in the [TF Placeholder](https://www.tensorflow.org/api_docs/python/tf/placeholder).\n",
    "* Implement `neural_net_keep_prob_input`\n",
    " * Return a [TF Placeholder](https://www.tensorflow.org/api_docs/python/tf/placeholder) for dropout keep probability.\n",
    " * Name the TensorFlow placeholder \"keep_prob\" using the TensorFlow `name` parameter in the [TF Placeholder](https://www.tensorflow.org/api_docs/python/tf/placeholder).\n",
    "\n",
    "These names will be used at the end of the project to load your saved model.\n",
    "\n",
    "Note: `None` for shapes in TensorFlow allow for a dynamic size."
   ]
  },
  {
   "cell_type": "code",
   "execution_count": 100,
   "metadata": {},
   "outputs": [
    {
     "data": {
      "text/plain": [
       "\"\\nDON'T MODIFY ANYTHING IN THIS CELL THAT IS BELOW THIS LINE\\n\""
      ]
     },
     "execution_count": 100,
     "metadata": {},
     "output_type": "execute_result"
    },
    {
     "name": "stdout",
     "output_type": "stream",
     "text": [
      "Image Input Tests Passed.\n",
      "Label Input Tests Passed.\n",
      "Keep Prob Tests Passed.\n"
     ]
    }
   ],
   "source": [
    "import tensorflow as tf\n",
    "\n",
    "def neural_net_image_input(image_shape):\n",
    "    \"\"\"\n",
    "    Return a Tensor for a batch of image input\n",
    "    : image_shape: Shape of the images\n",
    "    : return: Tensor for image input.\n",
    "    \"\"\"\n",
    "    return tf.placeholder(tf.float32, shape=[None] + list(image_shape), name=\"x\")\n",
    "\n",
    "\n",
    "def neural_net_label_input(n_classes):\n",
    "    \"\"\"\n",
    "    Return a Tensor for a batch of label input\n",
    "    : n_classes: Number of classes\n",
    "    : return: Tensor for label input.\n",
    "    \"\"\"\n",
    "    return tf.placeholder(tf.float32, [None, n_classes], name=\"y\")\n",
    "\n",
    "\n",
    "def neural_net_keep_prob_input():\n",
    "    \"\"\"\n",
    "    Return a Tensor for keep probability\n",
    "    : return: Tensor for keep probability.\n",
    "    \"\"\"\n",
    "    return tf.placeholder(tf.float32, name=\"keep_prob\") #dropout (keep probability)\n",
    "\n",
    "\n",
    "\"\"\"\n",
    "DON'T MODIFY ANYTHING IN THIS CELL THAT IS BELOW THIS LINE\n",
    "\"\"\"\n",
    "tf.reset_default_graph()\n",
    "tests.test_nn_image_inputs(neural_net_image_input)\n",
    "tests.test_nn_label_inputs(neural_net_label_input)\n",
    "tests.test_nn_keep_prob_inputs(neural_net_keep_prob_input)"
   ]
  },
  {
   "cell_type": "markdown",
   "metadata": {},
   "source": [
    "### Convolution and Max Pooling Layer\n",
    "Convolution layers have a lot of success with images. For this code cell, you should implement the function `conv2d_maxpool` to apply convolution then max pooling:\n",
    "* Create the weight and bias using `conv_ksize`, `conv_num_outputs` and the shape of `x_tensor`.\n",
    "* Apply a convolution to `x_tensor` using weight and `conv_strides`.\n",
    " * We recommend you use same padding, but you're welcome to use any padding.\n",
    "* Add bias\n",
    "* Add a nonlinear activation to the convolution.\n",
    "* Apply Max Pooling using `pool_ksize` and `pool_strides`.\n",
    " * We recommend you use same padding, but you're welcome to use any padding.\n",
    "\n",
    "**Note:** You **can't** use [TensorFlow Layers](https://www.tensorflow.org/api_docs/python/tf/layers) or [TensorFlow Layers (contrib)](https://www.tensorflow.org/api_guides/python/contrib.layers) for **this** layer, but you can still use TensorFlow's [Neural Network](https://www.tensorflow.org/api_docs/python/tf/nn) package. You may still use the shortcut option for all the **other** layers."
   ]
  },
  {
   "cell_type": "code",
   "execution_count": 132,
   "metadata": {},
   "outputs": [
    {
     "data": {
      "text/plain": [
       "\"\\nDON'T MODIFY ANYTHING IN THIS CELL THAT IS BELOW THIS LINE\\n\""
      ]
     },
     "execution_count": 132,
     "metadata": {},
     "output_type": "execute_result"
    },
    {
     "name": "stdout",
     "output_type": "stream",
     "text": [
      "Tests Passed\n"
     ]
    }
   ],
   "source": [
    "def conv2d_maxpool(x_tensor, conv_num_outputs, conv_ksize, conv_strides, pool_ksize, pool_strides):\n",
    "    \"\"\"\n",
    "    Apply convolution then max pooling to x_tensor\n",
    "    :param x_tensor: TensorFlow Tensor\n",
    "    :param conv_num_outputs: Number of outputs for the convolutional layer\n",
    "    :param conv_ksize: kernal size 2-D Tuple for the convolutional layer\n",
    "    :param conv_strides: Stride 2-D Tuple for convolution\n",
    "    :param pool_ksize: kernal size 2-D Tuple for pool\n",
    "    :param pool_strides: Stride 2-D Tuple for pool\n",
    "    : return: A tensor that represents convolution and max pooling of x_tensor\n",
    "    \"\"\"\n",
    "    # Filter (weights and bias)\n",
    "    # The shape of the filter weight is (height, width, input_depth, output_depth)\n",
    "    # The shape of the filter bias is (output_depth,)\n",
    "    # TODO: Define the filter weights `F_W` and filter bias `F_b`.\n",
    "    # NOTE: Remember to wrap them in `tf.Variable`, they are trainable parameters after all.\n",
    "    input_shape = x_tensor.shape # (batch_size, height, width, depth)\n",
    "    input_height = int(input_shape[1])\n",
    "    input_width = int(input_shape[2])\n",
    "    input_depth = int(input_shape[3])\n",
    "    \n",
    "    filter_height = conv_ksize[0] # since it's a 2-D Tuple for the convolutional layer for spatial dimension\n",
    "    filter_width = conv_ksize[1] # since it's a 2-D Tuple for the convolutional layer for spatial dimension\n",
    "    filter_depth = conv_num_outputs # since we want to increase depth to 'conv_num_outputs' as output_shape is (1,2,2,conv_num_outputs)\n",
    "    \n",
    "    # TODO: Set the stride for each dimension (batch_size, height, width, depth)\n",
    "    strides = [1] + list(conv_strides) + [1]\n",
    "    \n",
    "    output_height = np.ceil(float(input_height) / float(strides[1])) # for SAME padding\n",
    "    output_width  = np.ceil(float(input_width) / float(strides[2])) # for SAME padding\n",
    "    output_depth = conv_num_outputs\n",
    "    \n",
    "    # shape of filter weight is (height, width, input_depth, output_depth)\n",
    "    F_shape = [int(filter_height), int(filter_width), int(input_depth), int(output_depth)]\n",
    "    F_W = tf.Variable(tf.truncated_normal(F_shape, 0, 0.1))\n",
    "    \n",
    "    # shape of the filter bias is (output_depth,)\n",
    "    F_b = tf.Variable(tf.zeros(conv_num_outputs))\n",
    "    \n",
    "    # TODO: set the padding, either 'VALID' or 'SAME'.\n",
    "    padding = 'SAME'\n",
    "    # https://www.tensorflow.org/versions/r0.11/api_docs/python/nn.html#conv2d\n",
    "    # `tf.nn.conv2d` does not include the bias computation so we have to add it ourselves after.\n",
    "    conv_layer = tf.nn.conv2d(x_tensor, F_W, strides, padding)\n",
    "    conv_layer = tf.nn.bias_add(conv_layer, F_b)\n",
    "    conv_layer = tf.nn.relu(conv_layer)\n",
    "    \n",
    "    # TODO: Set the ksize (filter size) for each dimension (batch_size, height, width, depth)\n",
    "    ksize = [1] + list(pool_ksize) + [1]\n",
    "    # TODO: Set the stride for each dimension (batch_size, height, width, depth)\n",
    "    strides = [1] + list(pool_strides) + [1]\n",
    "    # TODO: set the padding, either 'VALID' or 'SAME'.\n",
    "    padding = 'SAME'\n",
    "    # TODO: Implement Function\n",
    "    conv_layer = tf.nn.max_pool(conv_layer, ksize, strides, padding) \n",
    "    return conv_layer\n",
    "\n",
    "\n",
    "\"\"\"\n",
    "DON'T MODIFY ANYTHING IN THIS CELL THAT IS BELOW THIS LINE\n",
    "\"\"\"\n",
    "tests.test_con_pool(conv2d_maxpool)"
   ]
  },
  {
   "cell_type": "markdown",
   "metadata": {},
   "source": [
    "### Flatten Layer\n",
    "Implement the `flatten` function to change the dimension of `x_tensor` from a 4-D tensor to a 2-D tensor.  The output should be the shape (*Batch Size*, *Flattened Image Size*). Shortcut option: you can use classes from the [TensorFlow Layers](https://www.tensorflow.org/api_docs/python/tf/layers) or [TensorFlow Layers (contrib)](https://www.tensorflow.org/api_guides/python/contrib.layers) packages for this layer. For more of a challenge, only use other TensorFlow packages."
   ]
  },
  {
   "cell_type": "code",
   "execution_count": 133,
   "metadata": {},
   "outputs": [
    {
     "data": {
      "text/plain": [
       "\"\\nDON'T MODIFY ANYTHING IN THIS CELL THAT IS BELOW THIS LINE\\n\""
      ]
     },
     "execution_count": 133,
     "metadata": {},
     "output_type": "execute_result"
    },
    {
     "name": "stdout",
     "output_type": "stream",
     "text": [
      "Tests Passed\n"
     ]
    }
   ],
   "source": [
    "def flatten(x_tensor):\n",
    "    \"\"\"\n",
    "    Flatten x_tensor to (Batch Size, Flattened Image Size)\n",
    "    : x_tensor: A tensor of size (Batch Size, ...), where ... are the image dimensions.\n",
    "    : return: A tensor of size (Batch Size, Flattened Image Size).\n",
    "    \"\"\"\n",
    "    dims = x_tensor.shape.as_list() # e.g. (1, 32, 32, 5) => dims[1:] = (32, 32, 5)\n",
    "    return tf.reshape(x_tensor,[-1, np.prod(dims[1:])]) # e.g. for a greyscale image of 32x32x1 size prod = 1024\n",
    "\n",
    "\n",
    "\"\"\"\n",
    "DON'T MODIFY ANYTHING IN THIS CELL THAT IS BELOW THIS LINE\n",
    "\"\"\"\n",
    "tests.test_flatten(flatten)"
   ]
  },
  {
   "cell_type": "markdown",
   "metadata": {},
   "source": [
    "### Fully-Connected Layer\n",
    "Implement the `fully_conn` function to apply a fully connected layer to `x_tensor` with the shape (*Batch Size*, *num_outputs*). Shortcut option: you can use classes from the [TensorFlow Layers](https://www.tensorflow.org/api_docs/python/tf/layers) or [TensorFlow Layers (contrib)](https://www.tensorflow.org/api_guides/python/contrib.layers) packages for this layer. For more of a challenge, only use other TensorFlow packages."
   ]
  },
  {
   "cell_type": "code",
   "execution_count": 134,
   "metadata": {},
   "outputs": [
    {
     "data": {
      "text/plain": [
       "\"\\nDON'T MODIFY ANYTHING IN THIS CELL THAT IS BELOW THIS LINE\\n\""
      ]
     },
     "execution_count": 134,
     "metadata": {},
     "output_type": "execute_result"
    },
    {
     "name": "stdout",
     "output_type": "stream",
     "text": [
      "Tests Passed\n"
     ]
    }
   ],
   "source": [
    "def fully_conn(x_tensor, num_outputs):\n",
    "    \"\"\"\n",
    "    Apply a fully connected layer to x_tensor using weight and bias\n",
    "    : x_tensor: A 2-D tensor where the first dimension is batch size.\n",
    "    : num_outputs: The number of output that the new tensor should be.\n",
    "    : return: A 2-D tensor where the second dimension is num_outputs.\n",
    "    \"\"\"\n",
    "    dims = x_tensor.get_shape().as_list()\n",
    "    shape = list( (dims[-1],) + (num_outputs,)) #list((dims[-1], num_outputs))\n",
    "    weight = tf.Variable(tf.truncated_normal(shape, 0, 0.1))\n",
    "    bias = tf.Variable(tf.zeros(num_outputs))\n",
    "    \n",
    "    fc1 = tf.matmul(x_tensor, weight)\n",
    "    fc1 = tf.add(fc1, bias)\n",
    "    fc1 = tf.nn.relu(fc1)\n",
    "    return fc1\n",
    "\n",
    "\n",
    "\"\"\"\n",
    "DON'T MODIFY ANYTHING IN THIS CELL THAT IS BELOW THIS LINE\n",
    "\"\"\"\n",
    "tests.test_fully_conn(fully_conn)"
   ]
  },
  {
   "cell_type": "markdown",
   "metadata": {},
   "source": [
    "### Output Layer\n",
    "Implement the `output` function to apply a fully connected layer to `x_tensor` with the shape (*Batch Size*, *num_outputs*). Shortcut option: you can use classes from the [TensorFlow Layers](https://www.tensorflow.org/api_docs/python/tf/layers) or [TensorFlow Layers (contrib)](https://www.tensorflow.org/api_guides/python/contrib.layers) packages for this layer. For more of a challenge, only use other TensorFlow packages.\n",
    "\n",
    "**Note:** Activation, softmax, or cross entropy should **not** be applied to this."
   ]
  },
  {
   "cell_type": "code",
   "execution_count": 138,
   "metadata": {},
   "outputs": [
    {
     "data": {
      "text/plain": [
       "\"\\nDON'T MODIFY ANYTHING IN THIS CELL THAT IS BELOW THIS LINE\\n\""
      ]
     },
     "execution_count": 138,
     "metadata": {},
     "output_type": "execute_result"
    },
    {
     "name": "stdout",
     "output_type": "stream",
     "text": [
      "Tests Passed\n"
     ]
    }
   ],
   "source": [
    "def output(x_tensor, num_outputs):\n",
    "    \"\"\"\n",
    "    Apply a output layer to x_tensor using weight and bias\n",
    "    : x_tensor: A 2-D tensor where the first dimension is batch size.\n",
    "    : num_outputs: The number of output that the new tensor should be.\n",
    "    : return: A 2-D tensor where the second dimension is num_outputs.\n",
    "    \"\"\"\n",
    "    # TODO: Implement Function\n",
    "    dims = x_tensor.get_shape().as_list()\n",
    "    shape = list( (dims[-1],) + (num_outputs,)) #list((dims[-1], num_outputs))\n",
    "    weight = tf.Variable(tf.truncated_normal(shape, 0, 0.1))\n",
    "    bias = tf.Variable(tf.zeros([int(num_outputs)]))\n",
    "    return tf.add(tf.matmul(x_tensor, weight), bias)\n",
    "\n",
    "\n",
    "\"\"\"\n",
    "DON'T MODIFY ANYTHING IN THIS CELL THAT IS BELOW THIS LINE\n",
    "\"\"\"\n",
    "tests.test_output(output)"
   ]
  },
  {
   "cell_type": "markdown",
   "metadata": {},
   "source": [
    "### Create Convolutional Model\n",
    "Implement the function `conv_net` to create a convolutional neural network model. The function takes in a batch of images, `x`, and outputs logits.  Use the layers you created above to create this model:\n",
    "\n",
    "* Apply 1, 2, or 3 Convolution and Max Pool layers\n",
    "* Apply a Flatten Layer\n",
    "* Apply 1, 2, or 3 Fully Connected Layers\n",
    "* Apply an Output Layer\n",
    "* Return the output\n",
    "* Apply [TensorFlow's Dropout](https://www.tensorflow.org/api_docs/python/tf/nn/dropout) to one or more layers in the model using `keep_prob`. "
   ]
  },
  {
   "cell_type": "code",
   "execution_count": 152,
   "metadata": {},
   "outputs": [
    {
     "data": {
      "text/plain": [
       "\"\\nDON'T MODIFY ANYTHING IN THIS CELL THAT IS BELOW THIS LINE\\n\""
      ]
     },
     "execution_count": 152,
     "metadata": {},
     "output_type": "execute_result"
    },
    {
     "name": "stdout",
     "output_type": "stream",
     "text": [
      "Neural Network Built!\n"
     ]
    }
   ],
   "source": [
    "def conv_net(x, keep_prob):\n",
    "    \"\"\"\n",
    "    Create a convolutional neural network model\n",
    "    : x: Placeholder tensor that holds image data.\n",
    "    : keep_prob: Placeholder tensor that hold dropout keep probability.\n",
    "    : return: Tensor that represents logits\n",
    "    \"\"\"\n",
    "    # TODO: Apply 1, 2, or 3 Convolution and Max Pool layers\n",
    "    #    Play around with different number of outputs, kernel size and stride\n",
    "    # Function Definition from Above:\n",
    "    #    conv2d_maxpool(x_tensor, conv_num_outputs, conv_ksize, conv_strides, pool_ksize, pool_strides)\n",
    "    conv = conv2d_maxpool(x, conv_num_outputs=20, conv_ksize=(2,2), conv_strides=(1,1), pool_ksize=(4,4), pool_strides=(1,1))\n",
    "    conv = tf.nn.dropout(conv, keep_prob)\n",
    "\n",
    "    # TODO: Apply a Flatten Layer\n",
    "    # Function Definition from Above:\n",
    "    conv = flatten(conv)\n",
    "    \n",
    "    # TODO: Apply 1, 2, or 3 Fully Connected Layers\n",
    "    #    Play around with different number of outputs\n",
    "    # Function Definition from Above:\n",
    "    #   fully_conn(x_tensor, num_outputs)\n",
    "    conv = fully_conn(conv, 384)\n",
    "    conv = tf.nn.dropout(conv, keep_prob)\n",
    "    \n",
    "    # TODO: Apply an Output Layer\n",
    "    #    Set this to the number of classes\n",
    "    # Function Definition from Above:\n",
    "    conv = output(conv, 10)\n",
    "    \n",
    "    # TODO: return output\n",
    "    return conv\n",
    "\n",
    "\n",
    "\"\"\"\n",
    "DON'T MODIFY ANYTHING IN THIS CELL THAT IS BELOW THIS LINE\n",
    "\"\"\"\n",
    "\n",
    "##############################\n",
    "## Build the Neural Network ##\n",
    "##############################\n",
    "\n",
    "# Remove previous weights, bias, inputs, etc..\n",
    "tf.reset_default_graph()\n",
    "\n",
    "# Inputs\n",
    "x = neural_net_image_input((32, 32, 3))\n",
    "y = neural_net_label_input(10)\n",
    "keep_prob = neural_net_keep_prob_input()\n",
    "\n",
    "# Model\n",
    "logits = conv_net(x, keep_prob)\n",
    "\n",
    "# Name logits Tensor, so that is can be loaded from disk after training\n",
    "logits = tf.identity(logits, name='logits')\n",
    "\n",
    "# Loss and Optimizer\n",
    "cost = tf.reduce_mean(tf.nn.softmax_cross_entropy_with_logits(logits=logits, labels=y))\n",
    "optimizer = tf.train.AdamOptimizer().minimize(cost)\n",
    "\n",
    "# Accuracy\n",
    "correct_pred = tf.equal(tf.argmax(logits, 1), tf.argmax(y, 1))\n",
    "accuracy = tf.reduce_mean(tf.cast(correct_pred, tf.float32), name='accuracy')\n",
    "\n",
    "tests.test_conv_net(conv_net)"
   ]
  },
  {
   "cell_type": "markdown",
   "metadata": {},
   "source": [
    "## Train the Neural Network\n",
    "### Single Optimization\n",
    "Implement the function `train_neural_network` to do a single optimization.  The optimization should use `optimizer` to optimize in `session` with a `feed_dict` of the following:\n",
    "* `x` for image input\n",
    "* `y` for labels\n",
    "* `keep_prob` for keep probability for dropout\n",
    "\n",
    "This function will be called for each batch, so `tf.global_variables_initializer()` has already been called.\n",
    "\n",
    "Note: Nothing needs to be returned. This function is only optimizing the neural network."
   ]
  },
  {
   "cell_type": "code",
   "execution_count": 153,
   "metadata": {},
   "outputs": [
    {
     "data": {
      "text/plain": [
       "\"\\nDON'T MODIFY ANYTHING IN THIS CELL THAT IS BELOW THIS LINE\\n\""
      ]
     },
     "execution_count": 153,
     "metadata": {},
     "output_type": "execute_result"
    },
    {
     "name": "stdout",
     "output_type": "stream",
     "text": [
      "Tests Passed\n"
     ]
    }
   ],
   "source": [
    "def train_neural_network(session, optimizer, keep_probability, feature_batch, label_batch):\n",
    "    \"\"\"\n",
    "    Optimize the session on a batch of images and labels\n",
    "    : session: Current TensorFlow session\n",
    "    : optimizer: TensorFlow optimizer function\n",
    "    : keep_probability: keep probability\n",
    "    : feature_batch: Batch of Numpy image data\n",
    "    : label_batch: Batch of Numpy label data\n",
    "    \"\"\"\n",
    "    # Launch the graph\n",
    "    session.run(optimizer, feed_dict={x:feature_batch, y:label_batch, keep_prob:keep_probability})\n",
    "\n",
    "\n",
    "\"\"\"\n",
    "DON'T MODIFY ANYTHING IN THIS CELL THAT IS BELOW THIS LINE\n",
    "\"\"\"\n",
    "tests.test_train_nn(train_neural_network)"
   ]
  },
  {
   "cell_type": "markdown",
   "metadata": {},
   "source": [
    "### Show Stats\n",
    "Implement the function `print_stats` to print loss and validation accuracy.  Use the global variables `valid_features` and `valid_labels` to calculate validation accuracy.  Use a keep probability of `1.0` to calculate the loss and validation accuracy."
   ]
  },
  {
   "cell_type": "code",
   "execution_count": 155,
   "metadata": {
    "collapsed": true
   },
   "outputs": [],
   "source": [
    "def print_stats(session, feature_batch, label_batch, cost, accuracy):\n",
    "    \"\"\"\n",
    "    Print information about loss and validation accuracy\n",
    "    : session: Current TensorFlow session\n",
    "    : feature_batch: Batch of Numpy image data\n",
    "    : label_batch: Batch of Numpy label data\n",
    "    : cost: TensorFlow cost function\n",
    "    : accuracy: TensorFlow accuracy function\n",
    "    \"\"\"\n",
    "    # TODO: Implement Function\n",
    "    loss, acc = session.run([cost, accuracy], feed_dict={x: feature_batch,\n",
    "                                                         y: label_batch,\n",
    "                                                         keep_prob: 1.})\n",
    "    print(\"Minibatch Loss= \" + \"{:.6f}\".format(loss) + \", Training Accuracy= \" + \"{:.5f}\".format(acc))\n"
   ]
  },
  {
   "cell_type": "markdown",
   "metadata": {},
   "source": [
    "### Hyperparameters\n",
    "Tune the following parameters:\n",
    "* Set `epochs` to the number of iterations until the network stops learning or start overfitting\n",
    "* Set `batch_size` to the highest number that your machine has memory for.  Most people set them to common sizes of memory:\n",
    " * 64\n",
    " * 128\n",
    " * 256\n",
    " * ...\n",
    "* Set `keep_probability` to the probability of keeping a node using dropout"
   ]
  },
  {
   "cell_type": "code",
   "execution_count": 161,
   "metadata": {
    "collapsed": true
   },
   "outputs": [],
   "source": [
    "# TODO: Tune Parameters\n",
    "epochs = 100\n",
    "batch_size = 256\n",
    "keep_probability = 0.75"
   ]
  },
  {
   "cell_type": "markdown",
   "metadata": {},
   "source": [
    "### Train on a Single CIFAR-10 Batch\n",
    "Instead of training the neural network on all the CIFAR-10 batches of data, let's use a single batch. This should save time while you iterate on the model to get a better accuracy.  Once the final validation accuracy is 50% or greater, run the model on all the data in the next section."
   ]
  },
  {
   "cell_type": "code",
   "execution_count": 157,
   "metadata": {},
   "outputs": [
    {
     "data": {
      "text/plain": [
       "\"\\nDON'T MODIFY ANYTHING IN THIS CELL\\n\""
      ]
     },
     "execution_count": 157,
     "metadata": {},
     "output_type": "execute_result"
    },
    {
     "name": "stdout",
     "output_type": "stream",
     "text": [
      "Checking the Training on a Single Batch...\n",
      "Epoch  1, CIFAR-10 Batch 1:  Minibatch Loss= 2.026156, Training Accuracy= 0.27500\n",
      "Epoch  2, CIFAR-10 Batch 1:  Minibatch Loss= 1.783847, Training Accuracy= 0.47500\n",
      "Epoch  3, CIFAR-10 Batch 1:  Minibatch Loss= 1.550493, Training Accuracy= 0.50000\n",
      "Epoch  4, CIFAR-10 Batch 1:  Minibatch Loss= 1.344667, Training Accuracy= 0.52500\n",
      "Epoch  5, CIFAR-10 Batch 1:  Minibatch Loss= 1.213567, Training Accuracy= 0.62500\n",
      "Epoch  6, CIFAR-10 Batch 1:  Minibatch Loss= 1.074596, Training Accuracy= 0.67500\n",
      "Epoch  7, CIFAR-10 Batch 1:  Minibatch Loss= 0.963074, Training Accuracy= 0.70000\n",
      "Epoch  8, CIFAR-10 Batch 1:  Minibatch Loss= 0.857901, Training Accuracy= 0.72500\n",
      "Epoch  9, CIFAR-10 Batch 1:  Minibatch Loss= 0.798131, Training Accuracy= 0.72500\n",
      "Epoch 10, CIFAR-10 Batch 1:  Minibatch Loss= 0.720219, Training Accuracy= 0.80000\n",
      "Epoch 11, CIFAR-10 Batch 1:  Minibatch Loss= 0.619203, Training Accuracy= 0.85000\n",
      "Epoch 12, CIFAR-10 Batch 1:  Minibatch Loss= 0.587630, Training Accuracy= 0.85000\n",
      "Epoch 13, CIFAR-10 Batch 1:  Minibatch Loss= 0.511690, Training Accuracy= 0.87500\n",
      "Epoch 14, CIFAR-10 Batch 1:  Minibatch Loss= 0.413716, Training Accuracy= 0.95000\n",
      "Epoch 15, CIFAR-10 Batch 1:  Minibatch Loss= 0.406284, Training Accuracy= 0.92500\n",
      "Epoch 16, CIFAR-10 Batch 1:  Minibatch Loss= 0.340266, Training Accuracy= 0.92500\n",
      "Epoch 17, CIFAR-10 Batch 1:  Minibatch Loss= 0.292997, Training Accuracy= 0.97500\n",
      "Epoch 18, CIFAR-10 Batch 1:  Minibatch Loss= 0.264782, Training Accuracy= 0.97500\n",
      "Epoch 19, CIFAR-10 Batch 1:  Minibatch Loss= 0.254245, Training Accuracy= 0.97500\n",
      "Epoch 20, CIFAR-10 Batch 1:  Minibatch Loss= 0.204241, Training Accuracy= 1.00000\n",
      "Epoch 21, CIFAR-10 Batch 1:  Minibatch Loss= 0.197670, Training Accuracy= 0.97500\n",
      "Epoch 22, CIFAR-10 Batch 1:  Minibatch Loss= 0.151938, Training Accuracy= 1.00000\n",
      "Epoch 23, CIFAR-10 Batch 1:  Minibatch Loss= 0.142939, Training Accuracy= 1.00000\n",
      "Epoch 24, CIFAR-10 Batch 1:  Minibatch Loss= 0.125999, Training Accuracy= 1.00000\n",
      "Epoch 25, CIFAR-10 Batch 1:  Minibatch Loss= 0.113373, Training Accuracy= 1.00000\n",
      "Epoch 26, CIFAR-10 Batch 1:  Minibatch Loss= 0.102615, Training Accuracy= 1.00000\n",
      "Epoch 27, CIFAR-10 Batch 1:  Minibatch Loss= 0.093646, Training Accuracy= 1.00000\n",
      "Epoch 28, CIFAR-10 Batch 1:  Minibatch Loss= 0.090744, Training Accuracy= 1.00000\n",
      "Epoch 29, CIFAR-10 Batch 1:  Minibatch Loss= 0.083096, Training Accuracy= 1.00000\n",
      "Epoch 30, CIFAR-10 Batch 1:  Minibatch Loss= 0.067641, Training Accuracy= 1.00000\n",
      "Epoch 31, CIFAR-10 Batch 1:  Minibatch Loss= 0.056642, Training Accuracy= 1.00000\n",
      "Epoch 32, CIFAR-10 Batch 1:  Minibatch Loss= 0.063453, Training Accuracy= 1.00000\n",
      "Epoch 33, CIFAR-10 Batch 1:  Minibatch Loss= 0.056836, Training Accuracy= 1.00000\n",
      "Epoch 34, CIFAR-10 Batch 1:  Minibatch Loss= 0.053711, Training Accuracy= 1.00000\n",
      "Epoch 35, CIFAR-10 Batch 1:  Minibatch Loss= 0.047012, Training Accuracy= 1.00000\n",
      "Epoch 36, CIFAR-10 Batch 1:  Minibatch Loss= 0.039919, Training Accuracy= 1.00000\n",
      "Epoch 37, CIFAR-10 Batch 1:  Minibatch Loss= 0.034410, Training Accuracy= 1.00000\n",
      "Epoch 38, CIFAR-10 Batch 1:  Minibatch Loss= 0.031046, Training Accuracy= 1.00000\n",
      "Epoch 39, CIFAR-10 Batch 1:  Minibatch Loss= 0.029157, Training Accuracy= 1.00000\n",
      "Epoch 40, CIFAR-10 Batch 1:  Minibatch Loss= 0.031648, Training Accuracy= 1.00000\n",
      "Epoch 41, CIFAR-10 Batch 1:  Minibatch Loss= 0.025755, Training Accuracy= 1.00000\n",
      "Epoch 42, CIFAR-10 Batch 1:  Minibatch Loss= 0.026507, Training Accuracy= 1.00000\n",
      "Epoch 43, CIFAR-10 Batch 1:  Minibatch Loss= 0.022442, Training Accuracy= 1.00000\n",
      "Epoch 44, CIFAR-10 Batch 1:  Minibatch Loss= 0.022543, Training Accuracy= 1.00000\n",
      "Epoch 45, CIFAR-10 Batch 1:  Minibatch Loss= 0.019308, Training Accuracy= 1.00000\n",
      "Epoch 46, CIFAR-10 Batch 1:  Minibatch Loss= 0.022089, Training Accuracy= 1.00000\n",
      "Epoch 47, CIFAR-10 Batch 1:  Minibatch Loss= 0.020706, Training Accuracy= 1.00000\n",
      "Epoch 48, CIFAR-10 Batch 1:  Minibatch Loss= 0.017933, Training Accuracy= 1.00000\n",
      "Epoch 49, CIFAR-10 Batch 1:  Minibatch Loss= 0.015346, Training Accuracy= 1.00000\n",
      "Epoch 50, CIFAR-10 Batch 1:  Minibatch Loss= 0.012654, Training Accuracy= 1.00000\n",
      "Epoch 51, CIFAR-10 Batch 1:  Minibatch Loss= 0.010403, Training Accuracy= 1.00000\n",
      "Epoch 52, CIFAR-10 Batch 1:  Minibatch Loss= 0.016035, Training Accuracy= 1.00000\n",
      "Epoch 53, CIFAR-10 Batch 1:  Minibatch Loss= 0.012377, Training Accuracy= 1.00000\n",
      "Epoch 54, CIFAR-10 Batch 1:  Minibatch Loss= 0.012162, Training Accuracy= 1.00000\n",
      "Epoch 55, CIFAR-10 Batch 1:  Minibatch Loss= 0.008268, Training Accuracy= 1.00000\n",
      "Epoch 56, CIFAR-10 Batch 1:  Minibatch Loss= 0.010118, Training Accuracy= 1.00000\n",
      "Epoch 57, CIFAR-10 Batch 1:  Minibatch Loss= 0.008350, Training Accuracy= 1.00000\n",
      "Epoch 58, CIFAR-10 Batch 1:  Minibatch Loss= 0.009291, Training Accuracy= 1.00000\n",
      "Epoch 59, CIFAR-10 Batch 1:  Minibatch Loss= 0.006688, Training Accuracy= 1.00000\n",
      "Epoch 60, CIFAR-10 Batch 1:  Minibatch Loss= 0.006466, Training Accuracy= 1.00000\n",
      "Epoch 61, CIFAR-10 Batch 1:  Minibatch Loss= 0.006730, Training Accuracy= 1.00000\n",
      "Epoch 62, CIFAR-10 Batch 1:  Minibatch Loss= 0.005208, Training Accuracy= 1.00000\n",
      "Epoch 63, CIFAR-10 Batch 1:  Minibatch Loss= 0.005154, Training Accuracy= 1.00000\n",
      "Epoch 64, CIFAR-10 Batch 1:  Minibatch Loss= 0.004736, Training Accuracy= 1.00000\n",
      "Epoch 65, CIFAR-10 Batch 1:  Minibatch Loss= 0.006032, Training Accuracy= 1.00000\n",
      "Epoch 66, CIFAR-10 Batch 1:  Minibatch Loss= 0.005345, Training Accuracy= 1.00000\n",
      "Epoch 67, CIFAR-10 Batch 1:  Minibatch Loss= 0.005636, Training Accuracy= 1.00000\n",
      "Epoch 68, CIFAR-10 Batch 1:  Minibatch Loss= 0.003672, Training Accuracy= 1.00000\n",
      "Epoch 69, CIFAR-10 Batch 1:  Minibatch Loss= 0.004144, Training Accuracy= 1.00000\n",
      "Epoch 70, CIFAR-10 Batch 1:  Minibatch Loss= 0.004721, Training Accuracy= 1.00000\n",
      "Epoch 71, CIFAR-10 Batch 1:  Minibatch Loss= 0.004330, Training Accuracy= 1.00000\n",
      "Epoch 72, CIFAR-10 Batch 1:  Minibatch Loss= 0.005973, Training Accuracy= 1.00000\n",
      "Epoch 73, CIFAR-10 Batch 1:  Minibatch Loss= 0.003459, Training Accuracy= 1.00000\n",
      "Epoch 74, CIFAR-10 Batch 1:  Minibatch Loss= 0.002755, Training Accuracy= 1.00000\n",
      "Epoch 75, CIFAR-10 Batch 1:  Minibatch Loss= 0.001978, Training Accuracy= 1.00000\n",
      "Epoch 76, CIFAR-10 Batch 1:  Minibatch Loss= 0.002417, Training Accuracy= 1.00000\n",
      "Epoch 77, CIFAR-10 Batch 1:  Minibatch Loss= 0.003885, Training Accuracy= 1.00000\n",
      "Epoch 78, CIFAR-10 Batch 1:  Minibatch Loss= 0.001858, Training Accuracy= 1.00000\n",
      "Epoch 79, CIFAR-10 Batch 1:  Minibatch Loss= 0.001661, Training Accuracy= 1.00000\n",
      "Epoch 80, CIFAR-10 Batch 1:  Minibatch Loss= 0.002010, Training Accuracy= 1.00000\n",
      "Epoch 81, CIFAR-10 Batch 1:  Minibatch Loss= 0.001567, Training Accuracy= 1.00000\n",
      "Epoch 82, CIFAR-10 Batch 1:  Minibatch Loss= 0.001224, Training Accuracy= 1.00000\n",
      "Epoch 83, CIFAR-10 Batch 1:  Minibatch Loss= 0.002462, Training Accuracy= 1.00000\n",
      "Epoch 84, CIFAR-10 Batch 1:  Minibatch Loss= 0.000943, Training Accuracy= 1.00000\n",
      "Epoch 85, CIFAR-10 Batch 1:  Minibatch Loss= 0.001686, Training Accuracy= 1.00000\n",
      "Epoch 86, CIFAR-10 Batch 1:  Minibatch Loss= 0.000987, Training Accuracy= 1.00000\n",
      "Epoch 87, CIFAR-10 Batch 1:  Minibatch Loss= 0.001045, Training Accuracy= 1.00000\n",
      "Epoch 88, CIFAR-10 Batch 1:  Minibatch Loss= 0.000960, Training Accuracy= 1.00000\n",
      "Epoch 89, CIFAR-10 Batch 1:  Minibatch Loss= 0.000823, Training Accuracy= 1.00000\n",
      "Epoch 90, CIFAR-10 Batch 1:  Minibatch Loss= 0.000825, Training Accuracy= 1.00000\n",
      "Epoch 91, CIFAR-10 Batch 1:  Minibatch Loss= 0.000920, Training Accuracy= 1.00000\n",
      "Epoch 92, CIFAR-10 Batch 1:  Minibatch Loss= 0.000755, Training Accuracy= 1.00000\n",
      "Epoch 93, CIFAR-10 Batch 1:  Minibatch Loss= 0.000604, Training Accuracy= 1.00000\n",
      "Epoch 94, CIFAR-10 Batch 1:  Minibatch Loss= 0.000536, Training Accuracy= 1.00000\n",
      "Epoch 95, CIFAR-10 Batch 1:  Minibatch Loss= 0.000934, Training Accuracy= 1.00000\n",
      "Epoch 96, CIFAR-10 Batch 1:  Minibatch Loss= 0.000822, Training Accuracy= 1.00000\n",
      "Epoch 97, CIFAR-10 Batch 1:  Minibatch Loss= 0.000538, Training Accuracy= 1.00000\n",
      "Epoch 98, CIFAR-10 Batch 1:  Minibatch Loss= 0.000621, Training Accuracy= 1.00000\n",
      "Epoch 99, CIFAR-10 Batch 1:  Minibatch Loss= 0.000510, Training Accuracy= 1.00000\n",
      "Epoch 100, CIFAR-10 Batch 1:  Minibatch Loss= 0.000463, Training Accuracy= 1.00000\n"
     ]
    }
   ],
   "source": [
    "\"\"\"\n",
    "DON'T MODIFY ANYTHING IN THIS CELL\n",
    "\"\"\"\n",
    "print('Checking the Training on a Single Batch...')\n",
    "with tf.Session() as sess:\n",
    "    # Initializing the variables\n",
    "    sess.run(tf.global_variables_initializer())\n",
    "    \n",
    "    # Training cycle\n",
    "    for epoch in range(epochs):\n",
    "        batch_i = 1\n",
    "        for batch_features, batch_labels in helper.load_preprocess_training_batch(batch_i, batch_size):\n",
    "            train_neural_network(sess, optimizer, keep_probability, batch_features, batch_labels)\n",
    "        print('Epoch {:>2}, CIFAR-10 Batch {}:  '.format(epoch + 1, batch_i), end='')\n",
    "        print_stats(sess, batch_features, batch_labels, cost, accuracy)"
   ]
  },
  {
   "cell_type": "markdown",
   "metadata": {},
   "source": [
    "### Fully Train the Model\n",
    "Now that you got a good accuracy with a single CIFAR-10 batch, try it with all five batches."
   ]
  },
  {
   "cell_type": "code",
   "execution_count": 162,
   "metadata": {},
   "outputs": [
    {
     "data": {
      "text/plain": [
       "\"\\nDON'T MODIFY ANYTHING IN THIS CELL\\n\""
      ]
     },
     "execution_count": 162,
     "metadata": {},
     "output_type": "execute_result"
    },
    {
     "name": "stdout",
     "output_type": "stream",
     "text": [
      "Training...\n",
      "Epoch  1, CIFAR-10 Batch 1:  Minibatch Loss= 2.079171, Training Accuracy= 0.20000\n",
      "Epoch  1, CIFAR-10 Batch 2:  Minibatch Loss= 1.693612, Training Accuracy= 0.45000\n",
      "Epoch  1, CIFAR-10 Batch 3:  Minibatch Loss= 1.328196, Training Accuracy= 0.55000\n",
      "Epoch  1, CIFAR-10 Batch 4:  Minibatch Loss= 1.498845, Training Accuracy= 0.47500\n",
      "Epoch  1, CIFAR-10 Batch 5:  Minibatch Loss= 1.394032, Training Accuracy= 0.50000\n",
      "Epoch  2, CIFAR-10 Batch 1:  Minibatch Loss= 1.470650, Training Accuracy= 0.50000\n",
      "Epoch  2, CIFAR-10 Batch 2:  Minibatch Loss= 1.109090, Training Accuracy= 0.62500\n",
      "Epoch  2, CIFAR-10 Batch 3:  Minibatch Loss= 0.977930, Training Accuracy= 0.62500\n",
      "Epoch  2, CIFAR-10 Batch 4:  Minibatch Loss= 1.217417, Training Accuracy= 0.65000\n",
      "Epoch  2, CIFAR-10 Batch 5:  Minibatch Loss= 1.133556, Training Accuracy= 0.65000\n",
      "Epoch  3, CIFAR-10 Batch 1:  Minibatch Loss= 1.189627, Training Accuracy= 0.65000\n",
      "Epoch  3, CIFAR-10 Batch 2:  Minibatch Loss= 0.942119, Training Accuracy= 0.70000\n",
      "Epoch  3, CIFAR-10 Batch 3:  Minibatch Loss= 0.797205, Training Accuracy= 0.70000\n",
      "Epoch  3, CIFAR-10 Batch 4:  Minibatch Loss= 0.979517, Training Accuracy= 0.75000\n",
      "Epoch  3, CIFAR-10 Batch 5:  Minibatch Loss= 0.903176, Training Accuracy= 0.72500\n",
      "Epoch  4, CIFAR-10 Batch 1:  Minibatch Loss= 1.049797, Training Accuracy= 0.72500\n",
      "Epoch  4, CIFAR-10 Batch 2:  Minibatch Loss= 0.783798, Training Accuracy= 0.80000\n",
      "Epoch  4, CIFAR-10 Batch 3:  Minibatch Loss= 0.621728, Training Accuracy= 0.87500\n",
      "Epoch  4, CIFAR-10 Batch 4:  Minibatch Loss= 0.818015, Training Accuracy= 0.72500\n",
      "Epoch  4, CIFAR-10 Batch 5:  Minibatch Loss= 0.768667, Training Accuracy= 0.80000\n",
      "Epoch  5, CIFAR-10 Batch 1:  Minibatch Loss= 0.918053, Training Accuracy= 0.70000\n",
      "Epoch  5, CIFAR-10 Batch 2:  Minibatch Loss= 0.663659, Training Accuracy= 0.85000\n",
      "Epoch  5, CIFAR-10 Batch 3:  Minibatch Loss= 0.525983, Training Accuracy= 0.85000\n",
      "Epoch  5, CIFAR-10 Batch 4:  Minibatch Loss= 0.705021, Training Accuracy= 0.75000\n",
      "Epoch  5, CIFAR-10 Batch 5:  Minibatch Loss= 0.613277, Training Accuracy= 0.85000\n",
      "Epoch  6, CIFAR-10 Batch 1:  Minibatch Loss= 0.824287, Training Accuracy= 0.72500\n",
      "Epoch  6, CIFAR-10 Batch 2:  Minibatch Loss= 0.602870, Training Accuracy= 0.85000\n",
      "Epoch  6, CIFAR-10 Batch 3:  Minibatch Loss= 0.463515, Training Accuracy= 0.87500\n",
      "Epoch  6, CIFAR-10 Batch 4:  Minibatch Loss= 0.599071, Training Accuracy= 0.82500\n",
      "Epoch  6, CIFAR-10 Batch 5:  Minibatch Loss= 0.532326, Training Accuracy= 0.87500\n",
      "Epoch  7, CIFAR-10 Batch 1:  Minibatch Loss= 0.708649, Training Accuracy= 0.82500\n",
      "Epoch  7, CIFAR-10 Batch 2:  Minibatch Loss= 0.541841, Training Accuracy= 0.90000\n",
      "Epoch  7, CIFAR-10 Batch 3:  Minibatch Loss= 0.399515, Training Accuracy= 0.97500\n",
      "Epoch  7, CIFAR-10 Batch 4:  Minibatch Loss= 0.470353, Training Accuracy= 0.92500\n",
      "Epoch  7, CIFAR-10 Batch 5:  Minibatch Loss= 0.461797, Training Accuracy= 0.90000\n",
      "Epoch  8, CIFAR-10 Batch 1:  Minibatch Loss= 0.620447, Training Accuracy= 0.85000\n",
      "Epoch  8, CIFAR-10 Batch 2:  Minibatch Loss= 0.467005, Training Accuracy= 0.92500\n",
      "Epoch  8, CIFAR-10 Batch 3:  Minibatch Loss= 0.348945, Training Accuracy= 0.97500\n",
      "Epoch  8, CIFAR-10 Batch 4:  Minibatch Loss= 0.424460, Training Accuracy= 0.97500\n",
      "Epoch  8, CIFAR-10 Batch 5:  Minibatch Loss= 0.386207, Training Accuracy= 0.90000\n",
      "Epoch  9, CIFAR-10 Batch 1:  Minibatch Loss= 0.558048, Training Accuracy= 0.87500\n",
      "Epoch  9, CIFAR-10 Batch 2:  Minibatch Loss= 0.365911, Training Accuracy= 0.95000\n",
      "Epoch  9, CIFAR-10 Batch 3:  Minibatch Loss= 0.291321, Training Accuracy= 1.00000\n",
      "Epoch  9, CIFAR-10 Batch 4:  Minibatch Loss= 0.390393, Training Accuracy= 0.95000\n",
      "Epoch  9, CIFAR-10 Batch 5:  Minibatch Loss= 0.339949, Training Accuracy= 0.95000\n",
      "Epoch 10, CIFAR-10 Batch 1:  Minibatch Loss= 0.438578, Training Accuracy= 0.85000\n",
      "Epoch 10, CIFAR-10 Batch 2:  Minibatch Loss= 0.333512, Training Accuracy= 0.92500\n",
      "Epoch 10, CIFAR-10 Batch 3:  Minibatch Loss= 0.262659, Training Accuracy= 1.00000\n",
      "Epoch 10, CIFAR-10 Batch 4:  Minibatch Loss= 0.305072, Training Accuracy= 0.97500\n",
      "Epoch 10, CIFAR-10 Batch 5:  Minibatch Loss= 0.305898, Training Accuracy= 0.95000\n",
      "Epoch 11, CIFAR-10 Batch 1:  Minibatch Loss= 0.377321, Training Accuracy= 0.90000\n",
      "Epoch 11, CIFAR-10 Batch 2:  Minibatch Loss= 0.286473, Training Accuracy= 0.95000\n",
      "Epoch 11, CIFAR-10 Batch 3:  Minibatch Loss= 0.256002, Training Accuracy= 1.00000\n",
      "Epoch 11, CIFAR-10 Batch 4:  Minibatch Loss= 0.275919, Training Accuracy= 0.97500\n",
      "Epoch 11, CIFAR-10 Batch 5:  Minibatch Loss= 0.259643, Training Accuracy= 0.97500\n",
      "Epoch 12, CIFAR-10 Batch 1:  Minibatch Loss= 0.373376, Training Accuracy= 0.92500\n",
      "Epoch 12, CIFAR-10 Batch 2:  Minibatch Loss= 0.255762, Training Accuracy= 0.95000\n",
      "Epoch 12, CIFAR-10 Batch 3:  Minibatch Loss= 0.214234, Training Accuracy= 0.97500\n",
      "Epoch 12, CIFAR-10 Batch 4:  Minibatch Loss= 0.232689, Training Accuracy= 0.97500\n",
      "Epoch 12, CIFAR-10 Batch 5:  Minibatch Loss= 0.250489, Training Accuracy= 0.95000\n",
      "Epoch 13, CIFAR-10 Batch 1:  Minibatch Loss= 0.291594, Training Accuracy= 0.95000\n",
      "Epoch 13, CIFAR-10 Batch 2:  Minibatch Loss= 0.242670, Training Accuracy= 1.00000\n",
      "Epoch 13, CIFAR-10 Batch 3:  Minibatch Loss= 0.186229, Training Accuracy= 1.00000\n",
      "Epoch 13, CIFAR-10 Batch 4:  Minibatch Loss= 0.208534, Training Accuracy= 0.97500\n",
      "Epoch 13, CIFAR-10 Batch 5:  Minibatch Loss= 0.220107, Training Accuracy= 1.00000\n",
      "Epoch 14, CIFAR-10 Batch 1:  Minibatch Loss= 0.291597, Training Accuracy= 0.92500\n",
      "Epoch 14, CIFAR-10 Batch 2:  Minibatch Loss= 0.206984, Training Accuracy= 1.00000\n",
      "Epoch 14, CIFAR-10 Batch 3:  Minibatch Loss= 0.168819, Training Accuracy= 1.00000\n",
      "Epoch 14, CIFAR-10 Batch 4:  Minibatch Loss= 0.176425, Training Accuracy= 0.97500\n",
      "Epoch 14, CIFAR-10 Batch 5:  Minibatch Loss= 0.200345, Training Accuracy= 1.00000\n",
      "Epoch 15, CIFAR-10 Batch 1:  Minibatch Loss= 0.213204, Training Accuracy= 0.97500\n",
      "Epoch 15, CIFAR-10 Batch 2:  Minibatch Loss= 0.170448, Training Accuracy= 1.00000\n",
      "Epoch 15, CIFAR-10 Batch 3:  Minibatch Loss= 0.122235, Training Accuracy= 1.00000\n",
      "Epoch 15, CIFAR-10 Batch 4:  Minibatch Loss= 0.166288, Training Accuracy= 0.97500\n",
      "Epoch 15, CIFAR-10 Batch 5:  Minibatch Loss= 0.161716, Training Accuracy= 1.00000\n",
      "Epoch 16, CIFAR-10 Batch 1:  Minibatch Loss= 0.223311, Training Accuracy= 0.97500\n",
      "Epoch 16, CIFAR-10 Batch 2:  Minibatch Loss= 0.167470, Training Accuracy= 1.00000\n",
      "Epoch 16, CIFAR-10 Batch 3:  Minibatch Loss= 0.143230, Training Accuracy= 1.00000\n",
      "Epoch 16, CIFAR-10 Batch 4:  Minibatch Loss= 0.156482, Training Accuracy= 0.97500\n",
      "Epoch 16, CIFAR-10 Batch 5:  Minibatch Loss= 0.153836, Training Accuracy= 1.00000\n",
      "Epoch 17, CIFAR-10 Batch 1:  Minibatch Loss= 0.197639, Training Accuracy= 0.97500\n",
      "Epoch 17, CIFAR-10 Batch 2:  Minibatch Loss= 0.133095, Training Accuracy= 1.00000\n",
      "Epoch 17, CIFAR-10 Batch 3:  Minibatch Loss= 0.128299, Training Accuracy= 1.00000\n",
      "Epoch 17, CIFAR-10 Batch 4:  Minibatch Loss= 0.139817, Training Accuracy= 1.00000\n",
      "Epoch 17, CIFAR-10 Batch 5:  Minibatch Loss= 0.113497, Training Accuracy= 1.00000\n",
      "Epoch 18, CIFAR-10 Batch 1:  Minibatch Loss= 0.166924, Training Accuracy= 1.00000\n",
      "Epoch 18, CIFAR-10 Batch 2:  Minibatch Loss= 0.127971, Training Accuracy= 1.00000\n",
      "Epoch 18, CIFAR-10 Batch 3:  Minibatch Loss= 0.113602, Training Accuracy= 1.00000\n",
      "Epoch 18, CIFAR-10 Batch 4:  Minibatch Loss= 0.120047, Training Accuracy= 1.00000\n",
      "Epoch 18, CIFAR-10 Batch 5:  Minibatch Loss= 0.105901, Training Accuracy= 1.00000\n",
      "Epoch 19, CIFAR-10 Batch 1:  Minibatch Loss= 0.158752, Training Accuracy= 1.00000\n",
      "Epoch 19, CIFAR-10 Batch 2:  Minibatch Loss= 0.130018, Training Accuracy= 1.00000\n",
      "Epoch 19, CIFAR-10 Batch 3:  Minibatch Loss= 0.109784, Training Accuracy= 1.00000\n",
      "Epoch 19, CIFAR-10 Batch 4:  Minibatch Loss= 0.114028, Training Accuracy= 1.00000\n",
      "Epoch 19, CIFAR-10 Batch 5:  Minibatch Loss= 0.110395, Training Accuracy= 1.00000\n",
      "Epoch 20, CIFAR-10 Batch 1:  Minibatch Loss= 0.133847, Training Accuracy= 1.00000\n",
      "Epoch 20, CIFAR-10 Batch 2:  Minibatch Loss= 0.112677, Training Accuracy= 1.00000\n",
      "Epoch 20, CIFAR-10 Batch 3:  Minibatch Loss= 0.081919, Training Accuracy= 1.00000\n",
      "Epoch 20, CIFAR-10 Batch 4:  Minibatch Loss= 0.105606, Training Accuracy= 1.00000\n",
      "Epoch 20, CIFAR-10 Batch 5:  Minibatch Loss= 0.115368, Training Accuracy= 1.00000\n"
     ]
    }
   ],
   "source": [
    "\"\"\"\n",
    "DON'T MODIFY ANYTHING IN THIS CELL\n",
    "\"\"\"\n",
    "save_model_path = './image_classification'\n",
    "\n",
    "print('Training...')\n",
    "with tf.Session() as sess:\n",
    "    # Initializing the variables\n",
    "    sess.run(tf.global_variables_initializer())\n",
    "    \n",
    "    # Training cycle\n",
    "    for epoch in range(epochs):\n",
    "        # Loop over all batches\n",
    "        n_batches = 5\n",
    "        for batch_i in range(1, n_batches + 1):\n",
    "            for batch_features, batch_labels in helper.load_preprocess_training_batch(batch_i, batch_size):\n",
    "                train_neural_network(sess, optimizer, keep_probability, batch_features, batch_labels)\n",
    "            print('Epoch {:>2}, CIFAR-10 Batch {}:  '.format(epoch + 1, batch_i), end='')\n",
    "            print_stats(sess, batch_features, batch_labels, cost, accuracy)\n",
    "            \n",
    "    # Save Model\n",
    "    saver = tf.train.Saver()\n",
    "    save_path = saver.save(sess, save_model_path)"
   ]
  },
  {
   "cell_type": "markdown",
   "metadata": {},
   "source": [
    "# Checkpoint\n",
    "The model has been saved to disk.\n",
    "## Test Model\n",
    "Test your model against the test dataset.  This will be your final accuracy. You should have an accuracy greater than 50%. If you don't, keep tweaking the model architecture and parameters."
   ]
  },
  {
   "cell_type": "code",
   "execution_count": 163,
   "metadata": {},
   "outputs": [
    {
     "data": {
      "text/plain": [
       "\"\\nDON'T MODIFY ANYTHING IN THIS CELL\\n\""
      ]
     },
     "execution_count": 163,
     "metadata": {},
     "output_type": "execute_result"
    },
    {
     "name": "stdout",
     "output_type": "stream",
     "text": [
      "INFO:tensorflow:Restoring parameters from ./image_classification\n",
      "Testing Accuracy: 0.68642578125\n",
      "\n"
     ]
    },
    {
     "data": {
      "image/png": "[encoded data removed]",
      "text/plain": [
       "<matplotlib.figure.Figure at 0x19c6df91a90>"
      ]
     },
     "metadata": {
      "image/png": {
       "height": 319,
       "width": 355
      }
     },
     "output_type": "display_data"
    }
   ],
   "source": [
    "\"\"\"\n",
    "DON'T MODIFY ANYTHING IN THIS CELL\n",
    "\"\"\"\n",
    "%matplotlib inline\n",
    "%config InlineBackend.figure_format = 'retina'\n",
    "\n",
    "import tensorflow as tf\n",
    "import pickle\n",
    "import helper\n",
    "import random\n",
    "\n",
    "# Set batch size if not already set\n",
    "try:\n",
    "    if batch_size:\n",
    "        pass\n",
    "except NameError:\n",
    "    batch_size = 64\n",
    "\n",
    "save_model_path = './image_classification'\n",
    "n_samples = 4\n",
    "top_n_predictions = 3\n",
    "\n",
    "def test_model():\n",
    "    \"\"\"\n",
    "    Test the saved model against the test dataset\n",
    "    \"\"\"\n",
    "\n",
    "    test_features, test_labels = pickle.load(open('preprocess_test.p', mode='rb'))\n",
    "    loaded_graph = tf.Graph()\n",
    "\n",
    "    with tf.Session(graph=loaded_graph) as sess:\n",
    "        # Load model\n",
    "        loader = tf.train.import_meta_graph(save_model_path + '.meta')\n",
    "        loader.restore(sess, save_model_path)\n",
    "\n",
    "        # Get Tensors from loaded model\n",
    "        loaded_x = loaded_graph.get_tensor_by_name('x:0')\n",
    "        loaded_y = loaded_graph.get_tensor_by_name('y:0')\n",
    "        loaded_keep_prob = loaded_graph.get_tensor_by_name('keep_prob:0')\n",
    "        loaded_logits = loaded_graph.get_tensor_by_name('logits:0')\n",
    "        loaded_acc = loaded_graph.get_tensor_by_name('accuracy:0')\n",
    "        \n",
    "        # Get accuracy in batches for memory limitations\n",
    "        test_batch_acc_total = 0\n",
    "        test_batch_count = 0\n",
    "        \n",
    "        for test_feature_batch, test_label_batch in helper.batch_features_labels(test_features, test_labels, batch_size):\n",
    "            test_batch_acc_total += sess.run(\n",
    "                loaded_acc,\n",
    "                feed_dict={loaded_x: test_feature_batch, loaded_y: test_label_batch, loaded_keep_prob: 1.0})\n",
    "            test_batch_count += 1\n",
    "\n",
    "        print('Testing Accuracy: {}\\n'.format(test_batch_acc_total/test_batch_count))\n",
    "\n",
    "        # Print Random Samples\n",
    "        random_test_features, random_test_labels = tuple(zip(*random.sample(list(zip(test_features, test_labels)), n_samples)))\n",
    "        random_test_predictions = sess.run(\n",
    "            tf.nn.top_k(tf.nn.softmax(loaded_logits), top_n_predictions),\n",
    "            feed_dict={loaded_x: random_test_features, loaded_y: random_test_labels, loaded_keep_prob: 1.0})\n",
    "        helper.display_image_predictions(random_test_features, random_test_labels, random_test_predictions)\n",
    "\n",
    "\n",
    "test_model()"
   ]
  },
  {
   "cell_type": "markdown",
   "metadata": {},
   "source": [
    "## Why 50-80% Accuracy?\n",
    "You might be wondering why you can't get an accuracy any higher. First things first, 50% isn't bad for a simple CNN.  Pure guessing would get you 10% accuracy. However, you might notice people are getting scores [well above 80%](http://rodrigob.github.io/are_we_there_yet/build/classification_datasets_results.html#43494641522d3130).  That's because we haven't taught you all there is to know about neural networks. We still need to cover a few more techniques.\n",
    "## Submitting This Project\n",
    "When submitting this project, make sure to run all the cells before saving the notebook.  Save the notebook file as \"dlnd_image_classification.ipynb\" and save it as a HTML file under \"File\" -> \"Download as\".  Include the \"helper.py\" and \"problem_unittests.py\" files in your submission."
   ]
  }
 ],
 "metadata": {
  "kernelspec": {
   "display_name": "Python 3",
   "language": "python",
   "name": "python3"
  },
  "language_info": {
   "codemirror_mode": {
    "name": "ipython",
    "version": 3
   },
   "file_extension": ".py",
   "mimetype": "text/x-python",
   "name": "python",
   "nbconvert_exporter": "python",
   "pygments_lexer": "ipython3",
   "version": "3.5.0"
  }
 },
 "nbformat": 4,
 "nbformat_minor": 1
}
